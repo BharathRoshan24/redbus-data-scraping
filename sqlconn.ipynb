{
 "cells": [
  {
   "cell_type": "code",
   "execution_count": 1,
   "id": "56573f6d",
   "metadata": {},
   "outputs": [],
   "source": [
    "#importing libraries\n",
    "import pandas as pd\n",
    "import mysql.connector\n",
    "import numpy as np"
   ]
  },
  {
   "cell_type": "code",
   "execution_count": 3,
   "id": "2a26c812",
   "metadata": {},
   "outputs": [
    {
     "data": {
      "text/html": [
       "<div>\n",
       "<style scoped>\n",
       "    .dataframe tbody tr th:only-of-type {\n",
       "        vertical-align: middle;\n",
       "    }\n",
       "\n",
       "    .dataframe tbody tr th {\n",
       "        vertical-align: top;\n",
       "    }\n",
       "\n",
       "    .dataframe thead th {\n",
       "        text-align: right;\n",
       "    }\n",
       "</style>\n",
       "<table border=\"1\" class=\"dataframe\">\n",
       "  <thead>\n",
       "    <tr style=\"text-align: right;\">\n",
       "      <th></th>\n",
       "      <th>Bus_name</th>\n",
       "      <th>Bus_type</th>\n",
       "      <th>Start_time</th>\n",
       "      <th>End_time</th>\n",
       "      <th>Total_duration</th>\n",
       "      <th>Price</th>\n",
       "      <th>Seats_Available</th>\n",
       "      <th>Ratings</th>\n",
       "      <th>Route_link</th>\n",
       "      <th>Route_name</th>\n",
       "    </tr>\n",
       "  </thead>\n",
       "  <tbody>\n",
       "    <tr>\n",
       "      <th>0</th>\n",
       "      <td>KSRTC (Kerala) - 805</td>\n",
       "      <td>Super Fast Non AC Seater (2+3)</td>\n",
       "      <td>13:30</td>\n",
       "      <td>22:05</td>\n",
       "      <td>08h 35m</td>\n",
       "      <td>INR 432</td>\n",
       "      <td>9 Seats available</td>\n",
       "      <td>4.1\\n60</td>\n",
       "      <td>https://www.redbus.in/bus-tickets/kozhikode-to...</td>\n",
       "      <td>Kozhikode to Bangalore</td>\n",
       "    </tr>\n",
       "    <tr>\n",
       "      <th>1</th>\n",
       "      <td>KSRTC (Kerala) - 578</td>\n",
       "      <td>Super Express Non AC Seater Air Bus (2+2)</td>\n",
       "      <td>18:00</td>\n",
       "      <td>03:15</td>\n",
       "      <td>09h 15m</td>\n",
       "      <td>INR 513</td>\n",
       "      <td>2 Seats available</td>\n",
       "      <td>3.8\\n35</td>\n",
       "      <td>https://www.redbus.in/bus-tickets/kozhikode-to...</td>\n",
       "      <td>Kozhikode to Bangalore</td>\n",
       "    </tr>\n",
       "    <tr>\n",
       "      <th>2</th>\n",
       "      <td>KSRTC (Kerala) - 72</td>\n",
       "      <td>SWIFT-GARUDA A/C SEATER BUS</td>\n",
       "      <td>19:05</td>\n",
       "      <td>04:20</td>\n",
       "      <td>09h 15m</td>\n",
       "      <td>INR 688</td>\n",
       "      <td>1 Seat available</td>\n",
       "      <td>3.9\\n50</td>\n",
       "      <td>https://www.redbus.in/bus-tickets/kozhikode-to...</td>\n",
       "      <td>Kozhikode to Bangalore</td>\n",
       "    </tr>\n",
       "    <tr>\n",
       "      <th>3</th>\n",
       "      <td>KSRTC (Kerala) - 1583</td>\n",
       "      <td>Super Express Non AC Seater Air Bus (2+2)</td>\n",
       "      <td>20:00</td>\n",
       "      <td>05:15</td>\n",
       "      <td>09h 15m</td>\n",
       "      <td>INR 640</td>\n",
       "      <td>1 Seat available</td>\n",
       "      <td>3.8\\n23</td>\n",
       "      <td>https://www.redbus.in/bus-tickets/kozhikode-to...</td>\n",
       "      <td>Kozhikode to Bangalore</td>\n",
       "    </tr>\n",
       "    <tr>\n",
       "      <th>4</th>\n",
       "      <td>KSRTC (Kerala) - 234</td>\n",
       "      <td>Swift Deluxe Non AC Air Bus (2+2)</td>\n",
       "      <td>21:00</td>\n",
       "      <td>06:40</td>\n",
       "      <td>09h 40m</td>\n",
       "      <td>INR 620</td>\n",
       "      <td>1 Seat available</td>\n",
       "      <td>4.2\\n42</td>\n",
       "      <td>https://www.redbus.in/bus-tickets/kozhikode-to...</td>\n",
       "      <td>Kozhikode to Bangalore</td>\n",
       "    </tr>\n",
       "    <tr>\n",
       "      <th>...</th>\n",
       "      <td>...</td>\n",
       "      <td>...</td>\n",
       "      <td>...</td>\n",
       "      <td>...</td>\n",
       "      <td>...</td>\n",
       "      <td>...</td>\n",
       "      <td>...</td>\n",
       "      <td>...</td>\n",
       "      <td>...</td>\n",
       "      <td>...</td>\n",
       "    </tr>\n",
       "    <tr>\n",
       "      <th>836</th>\n",
       "      <td>UPSRTC - KSN0275</td>\n",
       "      <td>Ordinary Non AC Seater 2+3</td>\n",
       "      <td>18:06</td>\n",
       "      <td>20:30</td>\n",
       "      <td>02h 24m</td>\n",
       "      <td>INR 121</td>\n",
       "      <td>52 Seats available</td>\n",
       "      <td>3.3</td>\n",
       "      <td>https://www.redbus.in/bus-tickets/kishangarh-t...</td>\n",
       "      <td>Kishangarh to Jaipur (Rajasthan)</td>\n",
       "    </tr>\n",
       "    <tr>\n",
       "      <th>837</th>\n",
       "      <td>CHANDRA RAJ TRAVELS</td>\n",
       "      <td>NON AC Seater / Sleeper 2+1</td>\n",
       "      <td>13:10</td>\n",
       "      <td>14:45</td>\n",
       "      <td>01h 35m</td>\n",
       "      <td>INR 300</td>\n",
       "      <td>38 Seats available</td>\n",
       "      <td>3.3</td>\n",
       "      <td>https://www.redbus.in/bus-tickets/kishangarh-t...</td>\n",
       "      <td>Kishangarh to Jaipur (Rajasthan)</td>\n",
       "    </tr>\n",
       "    <tr>\n",
       "      <th>838</th>\n",
       "      <td>Rinku Travels</td>\n",
       "      <td>A/C Seater / Sleeper (2+1)</td>\n",
       "      <td>17:30</td>\n",
       "      <td>21:00</td>\n",
       "      <td>03h 30m</td>\n",
       "      <td>333</td>\n",
       "      <td>41 Seats available</td>\n",
       "      <td>3.5</td>\n",
       "      <td>https://www.redbus.in/bus-tickets/kishangarh-t...</td>\n",
       "      <td>Kishangarh to Jaipur (Rajasthan)</td>\n",
       "    </tr>\n",
       "    <tr>\n",
       "      <th>839</th>\n",
       "      <td>Jain travels regd</td>\n",
       "      <td>A/C Seater / Sleeper (2+1)</td>\n",
       "      <td>18:45</td>\n",
       "      <td>20:45</td>\n",
       "      <td>02h 00m</td>\n",
       "      <td>INR 300</td>\n",
       "      <td>40 Seats available</td>\n",
       "      <td>3.7</td>\n",
       "      <td>https://www.redbus.in/bus-tickets/kishangarh-t...</td>\n",
       "      <td>Kishangarh to Jaipur (Rajasthan)</td>\n",
       "    </tr>\n",
       "    <tr>\n",
       "      <th>840</th>\n",
       "      <td>NaN</td>\n",
       "      <td>NaN</td>\n",
       "      <td>NaN</td>\n",
       "      <td>NaN</td>\n",
       "      <td>NaN</td>\n",
       "      <td>NaN</td>\n",
       "      <td>NaN</td>\n",
       "      <td>NaN</td>\n",
       "      <td>https://www.redbus.in/bus-tickets/kishangarh-t...</td>\n",
       "      <td>Kishangarh to Jaipur (Rajasthan)</td>\n",
       "    </tr>\n",
       "  </tbody>\n",
       "</table>\n",
       "<p>841 rows × 10 columns</p>\n",
       "</div>"
      ],
      "text/plain": [
       "                  Bus_name                                   Bus_type  \\\n",
       "0     KSRTC (Kerala) - 805             Super Fast Non AC Seater (2+3)   \n",
       "1     KSRTC (Kerala) - 578  Super Express Non AC Seater Air Bus (2+2)   \n",
       "2      KSRTC (Kerala) - 72                SWIFT-GARUDA A/C SEATER BUS   \n",
       "3    KSRTC (Kerala) - 1583  Super Express Non AC Seater Air Bus (2+2)   \n",
       "4     KSRTC (Kerala) - 234          Swift Deluxe Non AC Air Bus (2+2)   \n",
       "..                     ...                                        ...   \n",
       "836       UPSRTC - KSN0275                 Ordinary Non AC Seater 2+3   \n",
       "837    CHANDRA RAJ TRAVELS                NON AC Seater / Sleeper 2+1   \n",
       "838          Rinku Travels                 A/C Seater / Sleeper (2+1)   \n",
       "839      Jain travels regd                 A/C Seater / Sleeper (2+1)   \n",
       "840                    NaN                                        NaN   \n",
       "\n",
       "    Start_time End_time Total_duration    Price     Seats_Available  Ratings  \\\n",
       "0        13:30    22:05        08h 35m  INR 432   9 Seats available  4.1\\n60   \n",
       "1        18:00    03:15        09h 15m  INR 513   2 Seats available  3.8\\n35   \n",
       "2        19:05    04:20        09h 15m  INR 688    1 Seat available  3.9\\n50   \n",
       "3        20:00    05:15        09h 15m  INR 640    1 Seat available  3.8\\n23   \n",
       "4        21:00    06:40        09h 40m  INR 620    1 Seat available  4.2\\n42   \n",
       "..         ...      ...            ...      ...                 ...      ...   \n",
       "836      18:06    20:30        02h 24m  INR 121  52 Seats available      3.3   \n",
       "837      13:10    14:45        01h 35m  INR 300  38 Seats available      3.3   \n",
       "838      17:30    21:00        03h 30m      333  41 Seats available      3.5   \n",
       "839      18:45    20:45        02h 00m  INR 300  40 Seats available      3.7   \n",
       "840        NaN      NaN            NaN      NaN                 NaN      NaN   \n",
       "\n",
       "                                            Route_link  \\\n",
       "0    https://www.redbus.in/bus-tickets/kozhikode-to...   \n",
       "1    https://www.redbus.in/bus-tickets/kozhikode-to...   \n",
       "2    https://www.redbus.in/bus-tickets/kozhikode-to...   \n",
       "3    https://www.redbus.in/bus-tickets/kozhikode-to...   \n",
       "4    https://www.redbus.in/bus-tickets/kozhikode-to...   \n",
       "..                                                 ...   \n",
       "836  https://www.redbus.in/bus-tickets/kishangarh-t...   \n",
       "837  https://www.redbus.in/bus-tickets/kishangarh-t...   \n",
       "838  https://www.redbus.in/bus-tickets/kishangarh-t...   \n",
       "839  https://www.redbus.in/bus-tickets/kishangarh-t...   \n",
       "840  https://www.redbus.in/bus-tickets/kishangarh-t...   \n",
       "\n",
       "                           Route_name  \n",
       "0              Kozhikode to Bangalore  \n",
       "1              Kozhikode to Bangalore  \n",
       "2              Kozhikode to Bangalore  \n",
       "3              Kozhikode to Bangalore  \n",
       "4              Kozhikode to Bangalore  \n",
       "..                                ...  \n",
       "836  Kishangarh to Jaipur (Rajasthan)  \n",
       "837  Kishangarh to Jaipur (Rajasthan)  \n",
       "838  Kishangarh to Jaipur (Rajasthan)  \n",
       "839  Kishangarh to Jaipur (Rajasthan)  \n",
       "840  Kishangarh to Jaipur (Rajasthan)  \n",
       "\n",
       "[841 rows x 10 columns]"
      ]
     },
     "execution_count": 3,
     "metadata": {},
     "output_type": "execute_result"
    }
   ],
   "source": [
    "# csv to dataframe\n",
    "df_buses_1=pd.read_csv(r\"C:\\Users\\ajant\\OneDrive\\Desktop\\redbus-data-scraping\\Redbus\\df_buses_1.csv\")\n",
    "df_buses_2=pd.read_csv(r\"C:\\Users\\ajant\\OneDrive\\Desktop\\redbus-data-scraping\\Redbus\\df_buses_2.csv\")\n",
    "df_buses_3=pd.read_csv(r\"C:\\Users\\ajant\\OneDrive\\Desktop\\redbus-data-scraping\\Redbus\\df_buses_3.csv\")\n",
    "df_buses_4=pd.read_csv(r\"C:\\Users\\ajant\\OneDrive\\Desktop\\redbus-data-scraping\\Redbus\\df_buses_4.csv\")\n",
    "df_buses_5=pd.read_csv(r\"C:\\Users\\ajant\\OneDrive\\Desktop\\redbus-data-scraping\\Redbus\\df_buses_5.csv\")\n",
    "\n",
    "Final_df=pd.concat([df_buses_1,df_buses_2,df_buses_3,df_buses_4,df_buses_5],ignore_index=True)\n",
    "Final_df"
   ]
  },
  {
   "cell_type": "markdown",
   "id": "9c25c9de",
   "metadata": {},
   "source": [
    "\n",
    "# Data cleaning\n"
   ]
  },
  {
   "cell_type": "code",
   "execution_count": 4,
   "id": "dcc70783",
   "metadata": {},
   "outputs": [
    {
     "name": "stdout",
     "output_type": "stream",
     "text": [
      "<class 'pandas.core.frame.DataFrame'>\n",
      "RangeIndex: 841 entries, 0 to 840\n",
      "Data columns (total 10 columns):\n",
      " #   Column           Non-Null Count  Dtype \n",
      "---  ------           --------------  ----- \n",
      " 0   Bus_name         463 non-null    object\n",
      " 1   Bus_type         444 non-null    object\n",
      " 2   Start_time       463 non-null    object\n",
      " 3   End_time         463 non-null    object\n",
      " 4   Total_duration   463 non-null    object\n",
      " 5   Price            458 non-null    object\n",
      " 6   Seats_Available  452 non-null    object\n",
      " 7   Ratings          459 non-null    object\n",
      " 8   Route_link       841 non-null    object\n",
      " 9   Route_name       841 non-null    object\n",
      "dtypes: object(10)\n",
      "memory usage: 65.8+ KB\n"
     ]
    }
   ],
   "source": [
    "# data about the data\n",
    "Final_df.info()"
   ]
  },
  {
   "cell_type": "code",
   "execution_count": 5,
   "id": "e8d71a48",
   "metadata": {},
   "outputs": [
    {
     "data": {
      "text/plain": [
       "0      432.0\n",
       "1      513.0\n",
       "2      688.0\n",
       "3      640.0\n",
       "4      620.0\n",
       "       ...  \n",
       "836    121.0\n",
       "837    300.0\n",
       "838    333.0\n",
       "839    300.0\n",
       "840      0.0\n",
       "Name: Price, Length: 841, dtype: float64"
      ]
     },
     "execution_count": 5,
     "metadata": {},
     "output_type": "execute_result"
    }
   ],
   "source": [
    "#convert prices to numeric\n",
    "Final_df[\"Price\"]=Final_df[\"Price\"].str.replace(\"INR\",\"\")\n",
    "Final_df[\"Price\"]=Final_df[\"Price\"].astype(float)\n",
    "Final_df[\"Price\"].fillna(0) "
   ]
  },
  {
   "cell_type": "code",
   "execution_count": 10,
   "id": "8017bd51",
   "metadata": {},
   "outputs": [],
   "source": [
    "#convert Ratings to numeric\n",
    "Final_df[\"Ratings\"] = Final_df[\"Ratings\"].astype(str)\n",
    "Final_df[\"Ratings\"] = Final_df[\"Ratings\"].str.replace(\"New\", \"\", regex=False)\n",
    "Final_df[\"Ratings\"] = Final_df[\"Ratings\"].str.strip()\n",
    "Final_df[\"Ratings\"] = Final_df[\"Ratings\"].str.split().str[0]\n",
    "Final_df[\"Ratings\"] = pd.to_numeric(Final_df[\"Ratings\"], errors='coerce')\n",
    "Final_df[\"Ratings\"].fillna(0, inplace=True)"
   ]
  },
  {
   "cell_type": "code",
   "execution_count": 11,
   "id": "b36abe75",
   "metadata": {},
   "outputs": [
    {
     "name": "stdout",
     "output_type": "stream",
     "text": [
      "<class 'pandas.core.frame.DataFrame'>\n",
      "RangeIndex: 841 entries, 0 to 840\n",
      "Data columns (total 10 columns):\n",
      " #   Column           Non-Null Count  Dtype  \n",
      "---  ------           --------------  -----  \n",
      " 0   Bus_name         463 non-null    object \n",
      " 1   Bus_type         444 non-null    object \n",
      " 2   Start_time       463 non-null    object \n",
      " 3   End_time         463 non-null    object \n",
      " 4   Total_duration   463 non-null    object \n",
      " 5   Price            458 non-null    float64\n",
      " 6   Seats_Available  452 non-null    object \n",
      " 7   Ratings          841 non-null    float64\n",
      " 8   Route_link       841 non-null    object \n",
      " 9   Route_name       841 non-null    object \n",
      "dtypes: float64(2), object(8)\n",
      "memory usage: 65.8+ KB\n"
     ]
    }
   ],
   "source": [
    "# info after the data type change\n",
    "Final_df.info()"
   ]
  },
  {
   "cell_type": "code",
   "execution_count": 12,
   "id": "3adc0e10",
   "metadata": {},
   "outputs": [],
   "source": [
    "Final_df = Final_df[Final_df[\"Price\"] <= 7000]"
   ]
  },
  {
   "cell_type": "code",
   "execution_count": 13,
   "id": "2799ce60",
   "metadata": {},
   "outputs": [],
   "source": [
    "# replacing the nan value\n",
    "Final_df = Final_df.replace({np.nan: None})"
   ]
  },
  {
   "cell_type": "code",
   "execution_count": 14,
   "id": "a287a206",
   "metadata": {},
   "outputs": [],
   "source": [
    "# change dataframe to csv\n",
    "path=r\"C:\\Users\\ajant\\OneDrive\\Desktop\\redbus-data-scraping\\Redbus\\Final_busdetails_df.csv\"\n",
    "Final_df.to_csv(path,index=False)"
   ]
  },
  {
   "cell_type": "markdown",
   "id": "f6d19e4b",
   "metadata": {},
   "source": [
    "\n",
    "# Create a mysql database\n"
   ]
  },
  {
   "cell_type": "code",
   "execution_count": 20,
   "id": "99115fc3",
   "metadata": {},
   "outputs": [],
   "source": [
    "import mysql.connector\n",
    "conn = mysql.connector.connect(host=\"localhost\", user=\"root\", password=\"roshan21\")\n",
    "my_cursor = conn.cursor()\n",
    "my_cursor.execute(\"CREATE DATABASE IF NOT EXISTS RED_BUS_DETAILS\")"
   ]
  },
  {
   "cell_type": "code",
   "execution_count": 22,
   "id": "59153809",
   "metadata": {},
   "outputs": [
    {
     "name": "stdout",
     "output_type": "stream",
     "text": [
      "Table Created successfully\n"
     ]
    }
   ],
   "source": [
    "# Table Creation\n",
    "my_cursor.execute(\"USE RED_BUS_DETAILS\")\n",
    "my_cursor.execute('''CREATE TABLE IF NOT EXISTS bus_details(\n",
    "                  ID INT AUTO_INCREMENT PRIMARY KEY,\n",
    "                  Bus_name VARCHAR(255) NOT NULL,\n",
    "                  Bus_type VARCHAR(255) NOT NULL,\n",
    "                  Start_time VARCHAR(255) NOT NULL,\n",
    "                  End_time VARCHAR(255) NOT NULL,\n",
    "                  Total_duration VARCHAR(255) NOT NULL,\n",
    "                  Price FLOAT NULL,\n",
    "                  Seats_Available VARCHAR(255) NOT NULL,\n",
    "                  Ratings Float NULL,\n",
    "                  Route_link VARCHAR(255) NULL,\n",
    "                  Route_name VARCHAR(255) NULL\n",
    "                  )''')\n",
    "print(\"Table Created successfully\")"
   ]
  },
  {
   "cell_type": "code",
   "execution_count": 26,
   "id": "f249ea7f",
   "metadata": {},
   "outputs": [
    {
     "name": "stdout",
     "output_type": "stream",
     "text": [
      "Values inserted successfully\n"
     ]
    }
   ],
   "source": [
    "Final_df['Bus_type'] = Final_df['Bus_type'].fillna('Unknown')\n",
    "Final_df['Seats_Available'] = Final_df['Seats_Available'].fillna('0').astype(str)\n",
    "data = Final_df.values.tolist()\n",
    "\n",
    "# SQL query to insert data into bus_details table\n",
    "insert_query = '''INSERT INTO bus_details(\n",
    "                    Bus_name,\n",
    "                    Bus_type,\n",
    "                    Start_time,\n",
    "                    End_time,\n",
    "                    Total_duration,\n",
    "                    Price,\n",
    "                    Seats_Available,\n",
    "                    Ratings,\n",
    "                    Route_link,\n",
    "                    Route_name)\n",
    "                  VALUES(%s, %s, %s, %s, %s, %s, %s, %s, %s, %s)'''\n",
    "data = Final_df.values.tolist()\n",
    "\n",
    "my_cursor.executemany(insert_query, data)\n",
    "\n",
    "conn.commit()\n",
    "\n",
    "print(\"Values inserted successfully\")"
   ]
  },
  {
   "cell_type": "code",
   "execution_count": null,
   "id": "abd5113e",
   "metadata": {},
   "outputs": [],
   "source": []
  }
 ],
 "metadata": {
  "kernelspec": {
   "display_name": "Python 3 (ipykernel)",
   "language": "python",
   "name": "python3"
  },
  "language_info": {
   "codemirror_mode": {
    "name": "ipython",
    "version": 3
   },
   "file_extension": ".py",
   "mimetype": "text/x-python",
   "name": "python",
   "nbconvert_exporter": "python",
   "pygments_lexer": "ipython3",
   "version": "3.11.5"
  }
 },
 "nbformat": 4,
 "nbformat_minor": 5
}
